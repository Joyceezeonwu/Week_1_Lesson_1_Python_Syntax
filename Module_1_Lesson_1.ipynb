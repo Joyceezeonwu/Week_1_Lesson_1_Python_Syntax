{
 "cells": [
  {
   "cell_type": "markdown",
   "metadata": {},
   "source": [
    "Using else block to display a message “Done” after successfully executing a for loop."
   ]
  },
  {
   "cell_type": "code",
   "execution_count": 5,
   "metadata": {},
   "outputs": [
    {
     "name": "stdout",
     "output_type": "stream",
     "text": [
      "0\n",
      "1\n",
      "2\n",
      "3\n",
      "4\n",
      "5\n",
      "6\n",
      "7\n",
      "8\n",
      "9\n",
      "Done!\n"
     ]
    }
   ],
   "source": [
    "for a in range(10):\n",
    "    print(a)\n",
    "else:\n",
    "    print(\"Done!\")"
   ]
  },
  {
   "cell_type": "markdown",
   "metadata": {},
   "source": [
    "Writing a program that displays all prime numbers within range 5 and 60."
   ]
  },
  {
   "cell_type": "code",
   "execution_count": 4,
   "metadata": {},
   "outputs": [
    {
     "name": "stdout",
     "output_type": "stream",
     "text": [
      "Prime numbers between 5 and 60 are:\n",
      "5\n",
      "7\n",
      "11\n",
      "13\n",
      "17\n",
      "19\n",
      "23\n",
      "29\n",
      "31\n",
      "37\n",
      "41\n",
      "43\n",
      "47\n",
      "53\n",
      "59\n"
     ]
    }
   ],
   "source": [
    "lower = 5\n",
    "upper = 60\n",
    "\n",
    "print(\"Prime numbers between\", lower, \"and\", upper, \"are:\")\n",
    "\n",
    "for num in range(lower, upper + 1):\n",
    "   # all prime numbers are greater than 1\n",
    "   if num > 1:\n",
    "       for i in range(2, num):\n",
    "           if (num % i) == 0:\n",
    "               break\n",
    "       else:\n",
    "           print(num)"
   ]
  },
  {
   "cell_type": "markdown",
   "metadata": {},
   "source": [
    "Using a loop to display elements from a given list present at odd index positions."
   ]
  },
  {
   "cell_type": "code",
   "execution_count": 11,
   "metadata": {},
   "outputs": [
    {
     "name": "stdout",
     "output_type": "stream",
     "text": [
      "The list is: \n",
      "[5, 30, 8, 34, 55, 4, 0, 45, 6]\n",
      "The elements in odd positions are: \n",
      "30\n",
      "34\n",
      "4\n",
      "45\n"
     ]
    }
   ],
   "source": [
    "x = [5, 30, 8, 34, 55, 4, 0, 45, 6]\n",
    "print(\"The list is: \")\n",
    "print(x)\n",
    "print(\"The elements in odd positions are: \")\n",
    "for i in range(1, len(x), 2):\n",
    "   print(x[i])"
   ]
  },
  {
   "cell_type": "markdown",
   "metadata": {},
   "source": [
    "Calculating the cube of all numbers from 1 to a given number"
   ]
  },
  {
   "cell_type": "code",
   "execution_count": 1,
   "metadata": {},
   "outputs": [
    {
     "name": "stdout",
     "output_type": "stream",
     "text": [
      "Current Number is : 1  and the cube is 1\n",
      "Current Number is : 2  and the cube is 8\n",
      "Current Number is : 3  and the cube is 27\n",
      "Current Number is : 4  and the cube is 64\n"
     ]
    }
   ],
   "source": [
    "input_number = 4\n",
    "for i in range(1, input_number + 1):\n",
    "    print(\"Current Number is :\", i, \" and the cube is\", (i * i * i))"
   ]
  }
 ],
 "metadata": {
  "kernelspec": {
   "display_name": "Python 3.10.5 64-bit",
   "language": "python",
   "name": "python3"
  },
  "language_info": {
   "codemirror_mode": {
    "name": "ipython",
    "version": 3
   },
   "file_extension": ".py",
   "mimetype": "text/x-python",
   "name": "python",
   "nbconvert_exporter": "python",
   "pygments_lexer": "ipython3",
   "version": "3.10.5"
  },
  "orig_nbformat": 4,
  "vscode": {
   "interpreter": {
    "hash": "719fc08f50ebee3280168768d34a0fa75de336d5f841e13cc3c7bdaeb6e64a54"
   }
  }
 },
 "nbformat": 4,
 "nbformat_minor": 2
}
